{
 "cells": [
  {
   "cell_type": "markdown",
   "id": "6a50f35a-81b4-45b5-81fe-ad1d36e64966",
   "metadata": {},
   "source": [
    "#                                                 Strings Assignments"
   ]
  },
  {
   "cell_type": "markdown",
   "id": "08dc70e9-efee-4408-b8a5-e533ea21e971",
   "metadata": {},
   "source": [
    "#### Question_01"
   ]
  },
  {
   "cell_type": "code",
   "execution_count": 5,
   "id": "ca21a962-6eed-4fb2-ae74-a3d3228ab050",
   "metadata": {},
   "outputs": [
    {
     "name": "stdin",
     "output_type": "stream",
     "text": [
      "enter your name raza\n"
     ]
    },
    {
     "name": "stdout",
     "output_type": "stream",
     "text": [
      "total number of vowals is :2\n"
     ]
    }
   ],
   "source": [
    "user_string = input(\"enter your name\").lower()\n",
    "vowal_count = 0\n",
    "vowals = \"aeiou\"\n",
    "for a in user_string:\n",
    "    if a in vowals:\n",
    "        vowal_count+=1\n",
    "\n",
    "\n",
    "print(f\"total number of vowals is :{vowal_count}\")\n",
    "\n"
   ]
  },
  {
   "cell_type": "markdown",
   "id": "57a21883-38b1-4a89-b506-552e2a8b82be",
   "metadata": {},
   "source": [
    "#### Question_02"
   ]
  },
  {
   "cell_type": "code",
   "execution_count": null,
   "id": "9bd53314-2a24-49b7-b5f7-1c7de98ec2a7",
   "metadata": {},
   "outputs": [],
   "source": []
  }
 ],
 "metadata": {
  "kernelspec": {
   "display_name": "Python 3 (ipykernel)",
   "language": "python",
   "name": "python3"
  },
  "language_info": {
   "codemirror_mode": {
    "name": "ipython",
    "version": 3
   },
   "file_extension": ".py",
   "mimetype": "text/x-python",
   "name": "python",
   "nbconvert_exporter": "python",
   "pygments_lexer": "ipython3",
   "version": "3.12.7"
  }
 },
 "nbformat": 4,
 "nbformat_minor": 5
}
