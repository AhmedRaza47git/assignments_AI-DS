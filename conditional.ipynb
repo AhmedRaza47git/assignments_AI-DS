{
 "cells": [
  {
   "cell_type": "markdown",
   "id": "30713f25-b2f0-4bfa-95ba-212b03c752ff",
   "metadata": {},
   "source": [
    "# Conditional Structures"
   ]
  },
  {
   "cell_type": "markdown",
   "id": "6137ccc0-0ce6-4bdf-822b-7ae03e8a2a93",
   "metadata": {},
   "source": [
    "#### Write a program that prompts the user to input a number and display if the number (question_01)\n",
    "#### is even or odd.\n"
   ]
  },
  {
   "cell_type": "code",
   "execution_count": 9,
   "id": "37adb42d-dfde-44e3-ace9-d9f82af1f987",
   "metadata": {},
   "outputs": [
    {
     "name": "stdin",
     "output_type": "stream",
     "text": [
      "give the number 234\n"
     ]
    },
    {
     "name": "stdout",
     "output_type": "stream",
     "text": [
      "your giving number is even: 234\n"
     ]
    }
   ],
   "source": [
    "num = int(input(\"give the number\"))\n",
    "if num%2 == 0 :\n",
    "    print(f\"your giving number is even: {num}\")\n",
    "else:\n",
    "    print(f\"your giving number is odd: {num}\")"
   ]
  },
  {
   "cell_type": "markdown",
   "id": "356e4f90-6118-456c-8a1a-6278124f543a",
   "metadata": {},
   "source": [
    "#### Write a Python program that takes an age as input and determines whether a person (question_02)\n",
    "#### is eligible to vote. If the age is 18 or above, print \"You are eligible to vote.\" Otherwise,\n",
    "#### print \"You are not eligible to vote yet.\"."
   ]
  },
  {
   "cell_type": "code",
   "execution_count": 12,
   "id": "07aa7e24-7ca0-4c4f-b990-e858cb8ad1db",
   "metadata": {},
   "outputs": [
    {
     "name": "stdin",
     "output_type": "stream",
     "text": [
      "what is your age:  23\n"
     ]
    },
    {
     "name": "stdout",
     "output_type": "stream",
     "text": [
      "you are eligible for vote\n"
     ]
    }
   ],
   "source": [
    "age = int(input(\"what is your age: \"))\n",
    "if age >= 18:\n",
    "    print(\"you are eligible for vote\")\n",
    "else:\n",
    "    print(\"your are not eligible for vote\")"
   ]
  },
  {
   "cell_type": "markdown",
   "id": "2d770cc1-c9d8-4f2e-8107-5d70f3627a57",
   "metadata": {},
   "source": [
    "#### Write a program that prompts the user to input two integers and outputs the largest. (question_03)"
   ]
  },
  {
   "cell_type": "code",
   "execution_count": 17,
   "id": "a7970d03-a60f-4640-bb85-4565d026fac7",
   "metadata": {},
   "outputs": [
    {
     "name": "stdin",
     "output_type": "stream",
     "text": [
      "give the number 1:  100\n",
      "give the number 2:  4\n"
     ]
    },
    {
     "name": "stdout",
     "output_type": "stream",
     "text": [
      "largest number is: 100\n"
     ]
    }
   ],
   "source": [
    "num1= int(input(\"give the number 1: \"))\n",
    "num2= int(input(\"give the number 2: \"))\n",
    "if num1>num2:\n",
    "    print(f\"largest number is: {num1}\")\n",
    "elif num1<num2:\n",
    "    print(f\"largest number is: {num2}\")\n"
   ]
  },
  {
   "cell_type": "markdown",
   "id": "fff8e474-0873-483a-9522-2b28faecd061",
   "metadata": {},
   "source": [
    "#### Write a program that prompts the user to enter a number and determines whether it (question_04)\n",
    "#### is positive, negative, or zero. The program should print \"Positive\" if the number is\n",
    "#### greater than 0, \"Negative\" if the number is less than 0, and \"Zero\" if the number is 0."
   ]
  },
  {
   "cell_type": "code",
   "execution_count": 45,
   "id": "996f1dd5-0ed4-4afa-8416-cd59303d6e5f",
   "metadata": {},
   "outputs": [
    {
     "name": "stdin",
     "output_type": "stream",
     "text": [
      "give the number for check:  0\n"
     ]
    },
    {
     "name": "stdout",
     "output_type": "stream",
     "text": [
      "the number is zero: 0\n"
     ]
    }
   ],
   "source": [
    "num3 = int(input(\"give the number for check: \"))\n",
    "if num3<0:\n",
    "    print(f\"the number is negative: {num3}\")\n",
    "elif num3 == 0:\n",
    "    print(f\"the number is zero: {num3}\")\n",
    "else:\n",
    "    print(f\"the number is positive: {num3}\")"
   ]
  },
  {
   "cell_type": "markdown",
   "id": "a600d16b-d9ee-4f36-ba6a-e2369b0ef0b7",
   "metadata": {},
   "source": [
    "#### Write a program that prompts the user to enter their age and prints the (question_05)\n",
    "#### corresponding age group. The program should use the following age groups:"
   ]
  },
  {
   "cell_type": "code",
   "execution_count": 28,
   "id": "00672ae9-ef6d-41a6-b8e2-78491dbe8372",
   "metadata": {},
   "outputs": [
    {
     "name": "stdin",
     "output_type": "stream",
     "text": [
      "what is your age:  77\n"
     ]
    },
    {
     "name": "stdout",
     "output_type": "stream",
     "text": [
      "your are Senior Citizen\n"
     ]
    }
   ],
   "source": [
    "age_group = int(input(\"what is your age: \"))\n",
    "if age_group<=12:\n",
    "    print(\"your are Child\")\n",
    "elif age_group<=19:\n",
    "    print(\"your are Teenager\")\n",
    "elif age_group<=59:\n",
    "    print(\"your are Adult\")\n",
    "else:\n",
    "    print(\"your are Senior Citizen\")"
   ]
  },
  {
   "cell_type": "markdown",
   "id": "98a858a6-efb3-46e6-a659-6d169da287ca",
   "metadata": {},
   "source": [
    "#### Write a program that prompts the user to input a number from 1 to 7. The program (question_06)\n",
    "#### should display the corresponding day for the given number. For example, if the user\n",
    "#### types 1, the output should be Sunday. If the user types 7, the output should be\n",
    "#### Saturday. If the number is not between 1 to 7 user should get error message as shown\n",
    "#### in sample output."
   ]
  },
  {
   "cell_type": "code",
   "execution_count": 37,
   "id": "f14c1f7f-8a3b-4b94-bd28-429e7e6fe7d4",
   "metadata": {},
   "outputs": [
    {
     "name": "stdin",
     "output_type": "stream",
     "text": [
      "day number 88\n"
     ]
    },
    {
     "name": "stdout",
     "output_type": "stream",
     "text": [
      "(error) give number between 1 to 7\n"
     ]
    }
   ],
   "source": [
    "day_num = int(input(\"day number\"))\n",
    "if day_num == 1:\n",
    "    print(\"sunday\")\n",
    "elif day_num == 2:\n",
    "    print(\"mounday\")\n",
    "elif day_num == 3:\n",
    "    print(\"tuesday\")\n",
    "elif day_num == 4:\n",
    "    print(\"wensday\")\n",
    "elif day_num == 5:\n",
    "    print(\"thersday\")\n",
    "elif day_num == 6:\n",
    "    print(\"friday\")\n",
    "elif day_num == 7:\n",
    "    print(\"Saturday\")\n",
    "else:\n",
    "    print(\"(error) give number between 1 to 7\")"
   ]
  },
  {
   "cell_type": "markdown",
   "id": "6d3cdcda-4899-4176-be6b-1b78b43ff3d7",
   "metadata": {},
   "source": [
    "#### Write a program that prompts the user to enter their weight (in kilograms) and height (question_07)\n",
    "#### (in meters). The program should calculate the Body Mass Index (BMI) using the formula:\n",
    "#### BMI = weight / (height * height). The program should then classify the BMI into one of\n",
    "#### the following categories:"
   ]
  },
  {
   "cell_type": "code",
   "execution_count": 42,
   "id": "5b8e4abd-9794-4e2e-9786-33c9d7940aaa",
   "metadata": {},
   "outputs": [
    {
     "name": "stdin",
     "output_type": "stream",
     "text": [
      "enter your body weight in (killogram) 45\n",
      "enter your Height in (meter) 4\n"
     ]
    },
    {
     "name": "stdout",
     "output_type": "stream",
     "text": [
      "Underweight\n"
     ]
    }
   ],
   "source": [
    "weight = int(input(\"enter your body weight in (killogram)\"))\n",
    "height = int(input(\"enter your Height in (meter)\"))\n",
    "BMI = weight / (height * height)\n",
    "if BMI < 18.5:\n",
    "    print(\"Underweight\")\n",
    "elif BMI >18.5 and BMI <24.9:\n",
    "    print(\"Normal weight\")\n",
    "elif BMI >25 and BMI<29.9:\n",
    "    print(\"Over weight\")\n",
    "else:\n",
    "    print(\"Obesity\")"
   ]
  },
  {
   "cell_type": "markdown",
   "id": "08349912-0059-49a1-b4f7-3674286d1b15",
   "metadata": {},
   "source": [
    "#### The marks obtained by a student in 3 different subjects are input by the user. Your (question_08)\n",
    "#### program should calculate the average of subjects and display the grade. The student\n",
    "#### gets a grade as per the following rules:"
   ]
  },
  {
   "cell_type": "code",
   "execution_count": 63,
   "id": "e8d7871e-efd4-4f2b-a30c-3722dba5ae62",
   "metadata": {},
   "outputs": [
    {
     "name": "stdin",
     "output_type": "stream",
     "text": [
      "apne subject 1 k marks batao:  34\n",
      "apne subject 2 k marks batao:  45\n",
      "apne subject 3 k marks batao:  56\n"
     ]
    },
    {
     "name": "stdout",
     "output_type": "stream",
     "text": [
      "your grade is F\n"
     ]
    }
   ],
   "source": [
    "marks = []\n",
    "for i in range (3):\n",
    "    sub = int(input(f\"apne subject {i+1} k marks batao: \"))\n",
    "    marks.append(sub)\n",
    "average = sum(marks) / len(marks)\n",
    "if average >= 90:\n",
    "    grade = \"A\"\n",
    "elif average >= 80:\n",
    "    grade = \"B\"\n",
    "elif average >= 70:\n",
    "    grade = \"C\"\n",
    "elif average >= 60:\n",
    "    grade = \"D\"\n",
    "else:\n",
    "    grade = \"F\"\n",
    "print(f\"your grade is {grade}\")"
   ]
  },
  {
   "cell_type": "markdown",
   "id": "cb676bb5-8777-4f36-be93-55a439b4dbe3",
   "metadata": {},
   "source": [
    "#### Write a program that prompts the user to enter three numbers and sorts them in (question_09)\n",
    "#### ascending order. The program should print the sorted numbers."
   ]
  },
  {
   "cell_type": "code",
   "execution_count": 59,
   "id": "cbc1ecaa-75ee-4676-8149-5a1de6f3ad27",
   "metadata": {},
   "outputs": [
    {
     "name": "stdin",
     "output_type": "stream",
     "text": [
      "apna 1 number likhen 3\n",
      "apna 2 number likhen 4\n",
      "apna 3 number likhen 2\n"
     ]
    },
    {
     "name": "stdout",
     "output_type": "stream",
     "text": [
      "asending order me: [2, 3, 4]\n"
     ]
    }
   ],
   "source": [
    "num = []\n",
    "for taken in range(3):\n",
    "    number = int(input(f\"apna {taken+1} number likhen\"))\n",
    "    num.append(number)\n",
    "num.sort()\n",
    "print (f\"asending order me: {num}\")"
   ]
  },
  {
   "cell_type": "markdown",
   "id": "8a2bffea-b800-4b86-931a-c7ccff54b413",
   "metadata": {},
   "source": [
    "#### (question_10)"
   ]
  },
  {
   "cell_type": "code",
   "execution_count": null,
   "id": "37a0dba5-72ec-4c9d-a8c5-ff67bffff3a5",
   "metadata": {},
   "outputs": [],
   "source": [
    "a = float(input(\"give the num a (a is not equal 0)\" ))\n",
    "b = float(input(\"give the num b\" ))\n",
    "c = float(input(\"give the num c\" ))\n",
    "x1,x2 = -b+\n"
   ]
  },
  {
   "cell_type": "markdown",
   "id": "07762a8c-ce95-4e7a-8700-4a5dac98f972",
   "metadata": {},
   "source": [
    "#### Write a program that prompts the user to input three integers and outputs the (question_11)\n",
    "#### largest."
   ]
  },
  {
   "cell_type": "code",
   "execution_count": 74,
   "id": "4f8005bf-f122-4cb5-b558-5237d25ab854",
   "metadata": {},
   "outputs": [
    {
     "name": "stdin",
     "output_type": "stream",
     "text": [
      "give me number one 4\n",
      "give me number two 33\n",
      "give me number three 1\n"
     ]
    },
    {
     "name": "stdout",
     "output_type": "stream",
     "text": [
      "largest number is: 33\n"
     ]
    }
   ],
   "source": [
    "number1 = int(input(\"give me number one\"))\n",
    "number2 = int(input(\"give me number two\"))\n",
    "number3 = int(input(\"give me number three\"))\n",
    "if number1>number2 and number1>number3:\n",
    "    print(f\"largest number is: {number1}\")\n",
    "elif number2>number1 and number2>number3:\n",
    "    print(f\"largest number is: {number2}\")\n",
    "else:\n",
    "    print(f\"largest number is: {number3}\")\n",
    "\n"
   ]
  },
  {
   "cell_type": "markdown",
   "id": "27961989-1d97-44f7-b60d-fc9db92e81b6",
   "metadata": {},
   "source": [
    "#### Write a program that prompts the user to input a character and determine the (question_12)\n",
    "#### character is vowel or consonant."
   ]
  },
  {
   "cell_type": "code",
   "execution_count": 88,
   "id": "e21e1c15-ffdc-424e-8fe6-519d31af01d2",
   "metadata": {},
   "outputs": [
    {
     "name": "stdin",
     "output_type": "stream",
     "text": [
      "give the character e\n"
     ]
    },
    {
     "name": "stdout",
     "output_type": "stream",
     "text": [
      "your giving word is vowal: e\n"
     ]
    }
   ],
   "source": [
    "ctr = input(\"give the character\").lower()\n",
    "if ctr == \"a\" or ctr == \"e\" or ctr == \"i\" or ctr == \"o\" or ctr == \"u\":\n",
    "    print(f\"your giving word is vowal: {ctr}\")\n",
    "else:\n",
    "    \n",
    "    print(f\"your giving word is consonant: {ctr}\")"
   ]
  },
  {
   "cell_type": "markdown",
   "id": "6dd1c3a4-4de4-4c17-afcd-0c8eb562ad5f",
   "metadata": {},
   "source": [
    "#### (question_10)"
   ]
  },
  {
   "cell_type": "code",
   "execution_count": 24,
   "id": "a5be869e-5f74-4d00-bf44-b8e840128b12",
   "metadata": {},
   "outputs": [
    {
     "name": "stdin",
     "output_type": "stream",
     "text": [
      "how many calls give the number:  153\n"
     ]
    },
    {
     "name": "stdout",
     "output_type": "stream",
     "text": [
      "you have pay: 403.3\n"
     ]
    }
   ],
   "source": [
    " calls = int(input(\"how many calls give the number: \"))\n",
    "if calls <= 100:\n",
    "    print(\"you have to pay Rs:200 \")\n",
    "elif calls >= 101 and calls <=150:\n",
    "    plus_calls = (calls - 100)*0.60\n",
    "    var = 200+plus_calls\n",
    "    print(f\"you have pay: {var}\")\n",
    "elif calls >= 151 and calls <=200:\n",
    "    plus_calls2 = (calls - 150)*0.50\n",
    "    print(f\"you have pay: {200+plus_calls2+var}\")\n"
   ]
  },
  {
   "cell_type": "code",
   "execution_count": null,
   "id": "d730cb26-7fcf-47a5-81fa-f2765c8eee18",
   "metadata": {},
   "outputs": [],
   "source": []
  }
 ],
 "metadata": {
  "kernelspec": {
   "display_name": "Python 3 (ipykernel)",
   "language": "python",
   "name": "python3"
  },
  "language_info": {
   "codemirror_mode": {
    "name": "ipython",
    "version": 3
   },
   "file_extension": ".py",
   "mimetype": "text/x-python",
   "name": "python",
   "nbconvert_exporter": "python",
   "pygments_lexer": "ipython3",
   "version": "3.12.7"
  }
 },
 "nbformat": 4,
 "nbformat_minor": 5
}
