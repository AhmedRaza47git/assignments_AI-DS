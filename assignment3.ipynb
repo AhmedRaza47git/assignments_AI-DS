{
 "cells": [
  {
   "cell_type": "markdown",
   "id": "3ab14a40-1621-4363-92a9-9a20129c7414",
   "metadata": {},
   "source": [
    "# Discounts and Pricing   (Section-A)"
   ]
  },
  {
   "cell_type": "markdown",
   "id": "80b015c0-ce7c-40e6-a5fd-2e3eb7dd9650",
   "metadata": {},
   "source": [
    "### Check Discount Eligibility (Question-01)\n",
    "#### Write a program to check if a customer is eligible for a discount. If the total purchase is more than $100, apply a 10% discount and display the final price. Otherwise, display the total price as it is."
   ]
  },
  {
   "cell_type": "code",
   "execution_count": 2,
   "id": "c0b10632-161e-4a53-9409-6426a2036db6",
   "metadata": {},
   "outputs": [
    {
     "name": "stdin",
     "output_type": "stream",
     "text": [
      "Enter your total shoping amount:  100\n"
     ]
    },
    {
     "name": "stdout",
     "output_type": "stream",
     "text": [
      "your total amonut of shoping is: $100\n",
      "you are shoping more then ($100) so you are getting 10% off,\n",
      "now your total payment is: $90.0\n",
      "Thanks for shoping:) \n"
     ]
    }
   ],
   "source": [
    "total_amount = int(input(\"Enter your total shoping amount: \"))\n",
    "dolar =total_amount \n",
    "if dolar>=100:\n",
    "    discount =dolar*0.10\n",
    "    print(f\"your total amonut of shoping is: ${dolar}\")\n",
    "    print(\"you are shoping more then ($100) so you are getting 10% off,\")\n",
    "    print(f\"now your total payment is: ${dolar-discount}\")\n",
    "    print(\"Thanks for shoping:) \")\n",
    "else:\n",
    "    print(f\"your total amonut of shoping is: ${total_amount}\")\n",
    "    print(\"Thanks for shoping:) \")"
   ]
  },
  {
   "cell_type": "markdown",
   "id": "bc8e8c1c-beab-4b9f-aa92-ac17fbbc5460",
   "metadata": {},
   "source": [
    "\n",
    "## Calculate Bulk Discount (Question-02 & 03)\n",
    "#### If a customer buys more than 5 items, apply a 15% discount on the total price. Otherwise, no discount is applied. Display the total price.\n",
    "###        1. Membership Discount\n",
    "#### Check if the customer is a member (is_member = True). Members get a 20% discount; non-members get a 5% discount. Calculate and print the discounted price.\n"
   ]
  },
  {
   "cell_type": "code",
   "execution_count": 5,
   "id": "1e53bf1e-5f02-4f95-939d-1bcaeccbd464",
   "metadata": {},
   "outputs": [
    {
     "name": "stdin",
     "output_type": "stream",
     "text": [
      "Total purchasing item:  6\n",
      "Enter your total shoping amount:  20\n"
     ]
    },
    {
     "name": "stdout",
     "output_type": "stream",
     "text": [
      "your eligible for dicount: 120\n",
      "discount amount is: 102.0\n"
     ]
    },
    {
     "name": "stdin",
     "output_type": "stream",
     "text": [
      "Do you have membership? (yes/no)  yes\n"
     ]
    },
    {
     "name": "stdout",
     "output_type": "stream",
     "text": [
      "you are also eligible for membership discount:93.0\n"
     ]
    }
   ],
   "source": [
    "total_item = int(input(\"Total purchasing item: \"))\n",
    "price_per_item = int(input(\"Enter your total shoping amount: \"))\n",
    "total_price = total_item*price_per_item\n",
    "\n",
    "if total_item>5:\n",
    "    items_discount = total_price*0.15\n",
    "    print(f\"your eligible for dicount: {total_price}\")\n",
    "    print(f\"discount amount is: {total_price-items_discount}\")\n",
    "else:\n",
    "    print (\"you are note eligible for discount\")\n",
    "\n",
    "\n",
    "befor_membership_discount = total_price-items_discount\n",
    "\n",
    "is_member = input(\"Do you have membership? (yes/no) \").lower()\n",
    "if is_member == \"yes\":\n",
    "    membership_discount= items_discount*0.5\n",
    "    print(f\"you are also eligible for membership discount:{befor_membership_discount-membership_discount}\")\n",
    "else:\n",
    "   print (\"you are note eligible for membership discount\")"
   ]
  },
  {
   "cell_type": "markdown",
   "id": "945f3afb-03da-4009-a849-2e5e24947bbe",
   "metadata": {},
   "source": [
    "# Seasonal Sale (Question-04)\n",
    "### If today is a holiday (is_holiday = True), apply a 25% discount; otherwise, apply a 10% discount. Calculate the price after discount."
   ]
  },
  {
   "cell_type": "code",
   "execution_count": 4,
   "id": "87c3b59a-e95d-4a6a-b66e-c5a24dd75989",
   "metadata": {},
   "outputs": [
    {
     "name": "stdin",
     "output_type": "stream",
     "text": [
      "today is holiday or not? (yes/no) yes\n",
      "total amount 100\n"
     ]
    },
    {
     "name": "stdout",
     "output_type": "stream",
     "text": [
      "your total amount is:100\n",
      "holiday discount applied:75.0\n"
     ]
    }
   ],
   "source": [
    "holiday_cheack = input(\"today is holiday or not? (yes/no)\").strip(\" \").lower()\n",
    "price = int(input(\"total amount\"))\n",
    "if holiday_cheack == \"yes\":\n",
    "    print(f\"your total amount is:{price}\")\n",
    "    print(f\"holiday discount applied:{price*0.75}\")\n",
    "else:\n",
    "    print(f\"today discount is: {price*0.90}\")"
   ]
  },
  {
   "cell_type": "markdown",
   "id": "5adca091-a6e1-40fc-829b-155d868e4de3",
   "metadata": {},
   "source": [
    "## Buy-One-Get-half-Free (Question-05)\n",
    "### If a customer buys an even number of items, they get half of them for free. Otherwise, they pay for all. Calculate the number of items the customer has to pay for.\n"
   ]
  },
  {
   "cell_type": "code",
   "execution_count": 12,
   "id": "ac96a0bd-b7e4-4049-a74d-fa4b412dc4fe",
   "metadata": {},
   "outputs": [
    {
     "name": "stdin",
     "output_type": "stream",
     "text": [
      "tell me your buying amount:  3\n"
     ]
    },
    {
     "name": "stdout",
     "output_type": "stream",
     "text": [
      "you have to pay full:3\n"
     ]
    }
   ],
   "source": [
    "buying_number = int(input(\"tell me your buying amount: \"))\n",
    "if buying_number%2 == 0:\n",
    "    print(f\"you get the half for free of your buying amount:{buying_number}\")\n",
    "    print(f\"now you pay off your half: {buying_number/2}\")\n",
    "else:\n",
    "    print(f\"you have to pay full:{buying_number}\")"
   ]
  },
  {
   "cell_type": "markdown",
   "id": "e258c546-d806-482f-ba2c-4304d9d48c93",
   "metadata": {},
   "source": [
    "# Tax Calculations (section-B)"
   ]
  },
  {
   "cell_type": "markdown",
   "id": "09d9e97e-4ccf-4111-8e7e-15cf2471f658",
   "metadata": {},
   "source": [
    "## Sales Tax (Question-06)\n",
    "### If the price of an item is greater than $500, apply a luxury tax of 15%. Otherwise, apply a standard tax of 8%. Display the total price after tax."
   ]
  },
  {
   "cell_type": "code",
   "execution_count": 16,
   "id": "636c99ae-f188-4d9b-88aa-fc540f79d7cf",
   "metadata": {},
   "outputs": [
    {
     "name": "stdin",
     "output_type": "stream",
     "text": [
      "purchasing amount for tax cheack:  700\n"
     ]
    },
    {
     "name": "stdout",
     "output_type": "stream",
     "text": [
      "you purchasing amount more then $500 so have to pay luxury tax of 15% on your amount:700\n",
      "now your total amount is:$805.0\n"
     ]
    }
   ],
   "source": [
    "user_amount= int(input(\"purchasing amount for tax cheack: \"))\n",
    "if user_amount > 500:\n",
    "    print(f\"you purchasing amount more then $500 so have to pay luxury tax of 15% on your amount:{user_amount}\")\n",
    "    print(f\"now your total amount is:${user_amount*0.15+user_amount}\")\n",
    "else:\n",
    "    print(f\"your purchasing amount is{user_amount}\")\n",
    "    print(f\"after apply standard tax your total aomunt is {user_amount*0.08+user_amount}\")\n"
   ]
  },
  {
   "cell_type": "markdown",
   "id": "e6327a8f-8d3a-419f-bfab-548c91020909",
   "metadata": {},
   "source": [
    "## Income Tax (Question-07)\n",
    "### If a person's annual income is above $50,000, they pay 20% tax. Otherwise, they pay 10%. Calculate and display the tax amount.\n"
   ]
  },
  {
   "cell_type": "code",
   "execution_count": 18,
   "id": "10582c0b-8074-4b8d-a07d-7cb610810d36",
   "metadata": {},
   "outputs": [
    {
     "name": "stdin",
     "output_type": "stream",
     "text": [
      "annual income for tax cheack:  30000\n"
     ]
    },
    {
     "name": "stdout",
     "output_type": "stream",
     "text": [
      "your annual_income is30000\n",
      "after apply tax your total aomunt is 33000.0\n"
     ]
    }
   ],
   "source": [
    "annual_income= int(input(\"annual income for tax cheack: \"))\n",
    "if annual_income > 50000: \n",
    "    print(f\"your annual_income more then $50000 so have to pay tax of 20% on your annual_income:{annual_income}\")\n",
    "    print(f\"now your total amount is:${annual_income*0.20+annual_income}\")\n",
    "else:\n",
    "    print(f\"your annual_income is{annual_income}\")\n",
    "    print(f\"after apply tax your total aomunt is {annual_income*0.10+annual_income}\")"
   ]
  },
  {
   "cell_type": "markdown",
   "id": "f34e6cbd-8f1f-4955-9fd7-30e14c8bd730",
   "metadata": {},
   "source": [
    "## Tax Bracket (Question-08)\n",
    "### Write a program to categorize a person into tax brackets:\n",
    "#### Income < 30,000: \"Low Tax\"\n",
    "#### 30,000 ≤ Income < 100,000: \"Medium Tax\"\n",
    "#### Income ≥ $100,000: \"High Tax\""
   ]
  },
  {
   "cell_type": "code",
   "execution_count": 24,
   "id": "22b09067-f0b1-431a-a594-dd35346313a6",
   "metadata": {},
   "outputs": [
    {
     "name": "stdin",
     "output_type": "stream",
     "text": [
      "Tax category cheaker:  5555555\n"
     ]
    },
    {
     "name": "stdout",
     "output_type": "stream",
     "text": [
      "you have to pay High Tax\n"
     ]
    }
   ],
   "source": [
    "tax_bracket=int(input(\"Tax category cheaker: \"))\n",
    "if tax_bracket<30000:\n",
    "    print(\"you have pay Low Tax\")\n",
    "elif tax_bracket<100000:\n",
    "    print(\"you have to pay Medium Tax\")\n",
    "else:\n",
    "    print(\"you have to pay High Tax\")"
   ]
  },
  {
   "cell_type": "markdown",
   "id": "d6470c57-fe23-4722-8044-8809d5e58b1b",
   "metadata": {},
   "source": [
    "## VAT Calculation (Question-09)\n",
    "### If the item is marked as essential (is_essential = True), apply a VAT of 5%. Otherwise, apply a VAT of 12%. Display the final price."
   ]
  },
  {
   "cell_type": "code",
   "execution_count": 26,
   "id": "4a558ab6-20b8-4006-ba96-0fe1d322e6bd",
   "metadata": {},
   "outputs": [
    {
     "name": "stdin",
     "output_type": "stream",
     "text": [
      "price of item 40\n",
      "value check if essential (Yes/No) no\n"
     ]
    },
    {
     "name": "stdout",
     "output_type": "stream",
     "text": [
      "your item price is: 40\n",
      "your item is not essential so your VAT is 12% now your price is 44.8\n"
     ]
    }
   ],
   "source": [
    "item_price=int(input(\"price of item\"))\n",
    "value_check = input(\"value check if essential (Yes/No)\").strip().lower()\n",
    "if value_check == \"yes\":\n",
    "    print(f\"your item price is: {item_price}\")\n",
    "    print(f\"your item is essential so your VAT is 5% now your price is {item_price*0.05+item_price}\")\n",
    "else:\n",
    "    print(f\"your item price is: {item_price}\")\n",
    "    print(f\"your item is not essential so your VAT is 12% now your price is {item_price*0.12+item_price}\")"
   ]
  },
  {
   "cell_type": "markdown",
   "id": "e759af63-c443-4011-8d28-41eac2fae84d",
   "metadata": {},
   "source": [
    "## Tax-Free Day (Question-10)\n",
    "### If today is a tax-free day (tax_free = True), display the original price. Otherwise, add a 7% tax."
   ]
  },
  {
   "cell_type": "code",
   "execution_count": 32,
   "id": "bc6fc732-a357-49cb-99e3-8381a6b0f6ab",
   "metadata": {},
   "outputs": [
    {
     "name": "stdin",
     "output_type": "stream",
     "text": [
      "total price:  77\n",
      "Is today Tax-free day  (Yes/No) yes\n"
     ]
    },
    {
     "name": "stdout",
     "output_type": "stream",
     "text": [
      "your total price is: 77\n",
      "Today is Tax-free day so your its your orignal price is: 77\n"
     ]
    }
   ],
   "source": [
    "rate = int(input(\"total price: \"))\n",
    "day_check = input(\"Is today Tax-free day  (Yes/No)\").strip().lower()\n",
    "if day_check == \"yes\":\n",
    "    print(f\"your total price is: {rate}\")\n",
    "    print(f\"Today is Tax-free day so your its your orignal price is: {rate}\")\n",
    "else:\n",
    "    print(f\"your total price is: {rate}\")\n",
    "    print(f\"After 7% tax on your amount your total amount is: {rate*0.07+rate}\")"
   ]
  },
  {
   "cell_type": "markdown",
   "id": "2914b375-f87e-482a-9ef4-0b20d04cb042",
   "metadata": {},
   "source": [
    "# Shopping and Billing   (Section-C)"
   ]
  },
  {
   "cell_type": "markdown",
   "id": "08eb921a-da75-47dc-8a03-e44849e694f3",
   "metadata": {},
   "source": [
    "## Free Shipping (Question-11)\n",
    "### If the total purchase amount is more than 50 dollar, offer free shipping; otherwise, charge $5 for shipping. Display the total amount including shipping\n"
   ]
  },
  {
   "cell_type": "code",
   "execution_count": 36,
   "id": "1fe3a173-aae0-4930-a453-f799b1294045",
   "metadata": {},
   "outputs": [
    {
     "name": "stdin",
     "output_type": "stream",
     "text": [
      " 60\n"
     ]
    },
    {
     "name": "stdout",
     "output_type": "stream",
     "text": [
      "Here is your amount: $60\n",
      "your total purchase is more than $50 (we offer you free shipping to you) heres your amount: $60\n"
     ]
    }
   ],
   "source": [
    "total = int(input(\"\"))\n",
    "if total>50:\n",
    "    print(f\"Here is your amount: ${total}\")\n",
    "    print(f\"your total purchase is more than $50 (we offer you free shipping to you) heres your amount: ${total}\")\n",
    "else:\n",
    "    print(f\"Here is your amount: ${total}\")\n",
    "    print(f\"you have to pay shipping charges $5 now your total amount is here: ${total+5}\")"
   ]
  },
  {
   "cell_type": "markdown",
   "id": "c8528518-3048-44e4-9f16-c60ecf11f5ad",
   "metadata": {},
   "source": [
    "## Discount Code (Question-12)\n",
    "### If a customer enters the correct discount code (DISCOUNT10), apply a 10% discount. Otherwise, charge the full amount."
   ]
  },
  {
   "cell_type": "code",
   "execution_count": 44,
   "id": "045bcb80-77c5-4154-9d35-0f391da84a3d",
   "metadata": {},
   "outputs": [
    {
     "name": "stdin",
     "output_type": "stream",
     "text": [
      "Total parchase amount:  100\n",
      "Discount code if you have (otherwise type No) no\n"
     ]
    },
    {
     "name": "stdout",
     "output_type": "stream",
     "text": [
      "Here is your purchasing amount : 100\n"
     ]
    }
   ],
   "source": [
    "purchase = int(input(\"Total parchase amount: \"))\n",
    "code = input(\"Discount code if you have (otherwise type No)\").strip().upper() \n",
    "if code == \"DISCOUNT10\":\n",
    "    print(f\"Here is your purchasing amount Before discount: {purchase}\")\n",
    "    print(f\"Here is your purchasing amount After 10% discount: {purchase*0.90}\")\n",
    "else:\n",
    "    print(f\"Here is your purchasing amount : {purchase}\")\n",
    "    "
   ]
  },
  {
   "cell_type": "markdown",
   "id": "14e94452-d45e-4fbb-addd-129a68a39a12",
   "metadata": {},
   "source": [
    "## Tiered Discounts (Question-13)\n",
    "### Apply discounts based on the total price:\n",
    "#### $0–$50: No discount.\n",
    "#### $50–$100: 10% discount.\n",
    "#### Over $100: 20% discount"
   ]
  },
  {
   "cell_type": "code",
   "execution_count": 55,
   "id": "c67734d6-c441-45be-8a89-113d45da1dcd",
   "metadata": {},
   "outputs": [
    {
     "name": "stdin",
     "output_type": "stream",
     "text": [
      "total amount for discount cheaking:  123\n"
     ]
    },
    {
     "name": "stdout",
     "output_type": "stream",
     "text": [
      "you have 20% discount\n",
      "now your amount is: $98.4\n"
     ]
    }
   ],
   "source": [
    "discount_cheaker = int(input(\"total amount for discount cheaking: \"))\n",
    "if discount_cheaker<=50:\n",
    "    print(\"you have no discount (sorry)\")\n",
    "    print(f\"now your amount is (no-change):${discount_cheaker}\")\n",
    "elif discount_cheaker<=100:\n",
    "    print(\"you have 10% discount\")\n",
    "    print(f\"now your amount is: ${discount_cheaker*0.90}\")\n",
    "else:\n",
    "    print(\"you have 20% discount\")\n",
    "    print(f\"now your amount is: ${discount_cheaker*0.80}\")"
   ]
  },
  {
   "cell_type": "markdown",
   "id": "cb457b5d-033f-4ac4-9ff0-e3718a193d47",
   "metadata": {},
   "source": [
    "## Minimum Purchase Requirement (Question-14)\n",
    "### If the total amount is less than 20 dollar, display a message: \"Minimum purchase of $20 is required.\" Otherwise, display the total amount."
   ]
  },
  {
   "cell_type": "code",
   "execution_count": 58,
   "id": "50d6e432-a70f-4935-aded-c10d9483523a",
   "metadata": {},
   "outputs": [
    {
     "name": "stdin",
     "output_type": "stream",
     "text": [
      "total amount of shopping:  23\n"
     ]
    },
    {
     "name": "stdout",
     "output_type": "stream",
     "text": [
      "your total amount is: $23\n"
     ]
    }
   ],
   "source": [
    "amount_cheaker = int(input(\"total amount of shopping: \"))\n",
    "if amount_cheaker <20:\n",
    "    print(\"Minimum purchase of $20 is required.\")\n",
    "    print(f\"your purchasing amount is: ${amount_cheaker}\")\n",
    "else:\n",
    "    print(f\"your total amount is: ${amount_cheaker}\")"
   ]
  },
  {
   "cell_type": "markdown",
   "id": "ed264ac9-7377-4f60-b7e8-e9ba6fd05bdf",
   "metadata": {},
   "source": [
    "## Loyalty Points (Question-15)\n",
    "### If a customer is a loyal member (is_loyal = True), they earn double loyalty points for their purchase. Otherwise, they earn standard points."
   ]
  },
  {
   "cell_type": "code",
   "execution_count": 62,
   "id": "4b11fd9e-73ec-4632-8cb0-a1edc21784bc",
   "metadata": {},
   "outputs": [
    {
     "name": "stdin",
     "output_type": "stream",
     "text": [
      "total purchasing amount 100\n",
      "loyalty cheaker yes\n"
     ]
    },
    {
     "name": "stdout",
     "output_type": "stream",
     "text": [
      "your total purchasing amount is: 100\n",
      "you are our loyal customer you get double point on your purchase: 20 point's\n"
     ]
    }
   ],
   "source": [
    "purchasing_amount = int(input(\"total purchasing amount\"))\n",
    "loyalty = input(\"loyalty cheaker\").strip().lower()\n",
    "standard_point = purchasing_amount*0.1\n",
    "if loyalty == \"yes\":\n",
    "    print(f\"your total purchasing amount is: {purchasing_amount}\")\n",
    "    print(f\"you are our loyal customer you get double point on your purchase: {int(standard_point*2)} point's\")\n",
    "else:\n",
    "    print(f\"your total purchasing amount is: {purchasing_amount}\")\n",
    "    print(f\"you get the standard point for shopping: {int(standard_point)} point's\")"
   ]
  },
  {
   "cell_type": "markdown",
   "id": "fcc8a53c-e69d-4dd1-bcc2-c5c179593cc5",
   "metadata": {},
   "source": [
    "# Travel and Tickets   (Section-D)"
   ]
  },
  {
   "cell_type": "markdown",
   "id": "c14d2a17-f3e3-4da8-9a24-9c1898b092ef",
   "metadata": {},
   "source": [
    "## Travel Discount (Question-16)\n",
    "#### If a person is traveling more than 500 miles, offer a 20% discount on ticket price. Otherwise, charge the full amount"
   ]
  },
  {
   "cell_type": "code",
   "execution_count": 13,
   "id": "ebde7bc0-b637-4d32-a00f-06edde49ef82",
   "metadata": {},
   "outputs": [
    {
     "name": "stdin",
     "output_type": "stream",
     "text": [
      "how many miles do you travels:  400\n"
     ]
    },
    {
     "name": "stdout",
     "output_type": "stream",
     "text": [
      "your ticket amount is: 4000\n"
     ]
    }
   ],
   "source": [
    "miles_ticket = int(input(\"how many miles do you travels: \"))\n",
    "#humne phele se hi assign kar diya he miles k rate one mile = 10 rupes\n",
    "#ta ke user se bar bar input na lena pare bass miles hi puchen \n",
    "ticket_price = 10 * miles_ticket\n",
    "if miles_ticket > 500:\n",
    "    print(f\"now your ticket price is: {ticket_price}\")\n",
    "    print (\"We offer you a discount 20% off on your ticket\")\n",
    "    print (f\"After discount your ticket prize is: {ticket_price*0.80}\")\n",
    "else:\n",
    "    print (f\"your ticket amount is: {int(ticket_price)}\")"
   ]
  },
  {
   "cell_type": "markdown",
   "id": "52c46330-0c0f-4882-9aa9-7c9ab051f12c",
   "metadata": {},
   "source": [
    "## Child or Senior Discount (Question-17)\n",
    "### If a passenger is under 12 or over 60 years old, apply a 15% discount on the ticket price. Otherwise, charge the full price."
   ]
  },
  {
   "cell_type": "code",
   "execution_count": 12,
   "id": "1c6f84dc-da63-4c49-8714-875bc90dd89d",
   "metadata": {},
   "outputs": [
    {
     "name": "stdin",
     "output_type": "stream",
     "text": [
      "how many miles do you travels:  10\n",
      "what is your age:  67\n"
     ]
    },
    {
     "name": "stdout",
     "output_type": "stream",
     "text": [
      "your orignal ticket price is: 100\n",
      "age discount 15% is applied on your ticket:\n",
      "After discount your ticket prize is: 85\n"
     ]
    }
   ],
   "source": [
    "miles_ticket2 = int(input(\"how many miles do you travels: \"))\n",
    "passenger_age = int(input(\"what is your age: \"))\n",
    "ticket_price2 = 10 * miles_ticket2\n",
    "if passenger_age <=12 or passenger_age>=60:\n",
    "    print(f\"your orignal ticket price is: {ticket_price2}\")\n",
    "    print (f\"age discount 15% is applied on your ticket:\")\n",
    "    print (f\"After discount your ticket prize is: {int(ticket_price2*0.85)}\")\n",
    "else:\n",
    "    print (f\"your ticket amount is: {ticket_price2}\")"
   ]
  },
  {
   "cell_type": "markdown",
   "id": "d71220c2-0cc1-4577-87aa-3e72e65d9069",
   "metadata": {},
   "source": [
    "## Ticket Type Pricing (Question-18)\n",
    "### If the ticket is for a weekend (is_weekend = True), add a 10% surcharge. Otherwise, charge the standard price."
   ]
  },
  {
   "cell_type": "code",
   "execution_count": 23,
   "id": "c47397da-96c8-4958-8e16-8183b6ca6584",
   "metadata": {},
   "outputs": [
    {
     "name": "stdin",
     "output_type": "stream",
     "text": [
      "day name sunday\n",
      "total amount 100\n"
     ]
    },
    {
     "name": "stdout",
     "output_type": "stream",
     "text": [
      "Total payment is: 100\n",
      "Today is a weekend day so the surcharge is applied: 110\n"
     ]
    }
   ],
   "source": [
    "day_cheak = input(\"day name\").lower()\n",
    "payment = int(input(\"total amount\"))\n",
    "if day_cheak == \"sunday\" or day_cheak == \"saturday\":\n",
    "    print(f\"Total payment is: {payment}\")\n",
    "    print(f\"Today is a weekend day so the surcharge is applied: {int(payment*0.10+payment)}\")\n",
    "else:\n",
    "    print(f\"Total payment is: {payment}\")"
   ]
  },
  {
   "cell_type": "markdown",
   "id": "53393fbc-845f-40e3-a743-805e7579adfe",
   "metadata": {},
   "source": [
    "## Baggage Fee (Question-19)\n",
    "### If the total baggage weight is over 20kg, charge $10 per extra kilogram. Otherwise, no extra fee."
   ]
  },
  {
   "cell_type": "code",
   "execution_count": 32,
   "id": "5ed62149-8150-41f8-9a41-3dde8c0e6dd5",
   "metadata": {},
   "outputs": [
    {
     "name": "stdin",
     "output_type": "stream",
     "text": [
      "Enter your baggage wait 25\n"
     ]
    },
    {
     "name": "stdout",
     "output_type": "stream",
     "text": [
      "per kg rate for baggage is $5 your baggage weight is: 25kg\n",
      "your baggage weight is more then 20kg you have to pay $10 per extra kilogram\n",
      "According to your baggage weigth your total bill is: $175\n"
     ]
    }
   ],
   "source": [
    "weight = int(input(\"Enter your baggage wait\"))\n",
    "kg_rate = weight*5\n",
    "if weight > 20:\n",
    "    print(f\"per kg rate for baggage is $5 your baggage weight is: {weight}kg\")\n",
    "    print(f\"your baggage weight is more then 20kg you have to pay $10 per extra kilogram\")\n",
    "    print(f\"According to your baggage weigth your total bill is: ${(weight-20)*10+kg_rate}\")\n",
    "else:\n",
    "    print(f\"per kg rate for baggage is $5 your baggage weight is: {weight}kg\")\n",
    "    print(f\"According to your baggage weigth your total bill is: ${kg_rate}\")"
   ]
  },
  {
   "cell_type": "markdown",
   "id": "8ea31a31-1e45-4970-acd6-603e1b5242b8",
   "metadata": {},
   "source": [
    "## Early Bird Discount (Question-20)\n",
    "### If a ticket is booked more than 30 days in advance, apply a 10% discount. Otherwise, charge the full price."
   ]
  },
  {
   "cell_type": "code",
   "execution_count": 91,
   "id": "118cdb53-0f7e-4d49-a0b0-fd3a9d3c32e5",
   "metadata": {},
   "outputs": [
    {
     "name": "stdin",
     "output_type": "stream",
     "text": [
      "Enter booking date (YYYY-MM-DD):  2024-11-30\n",
      "Enter event date (YYYY-MM-DD):  2024-11-01\n",
      "Enter the ticket price:  500\n"
     ]
    },
    {
     "name": "stdout",
     "output_type": "stream",
     "text": [
      "The ticket is booked within 30 days. Full price: $500.00\n"
     ]
    }
   ],
   "source": [
    "from datetime import datetime                                    # Chat GPT\n",
    "\n",
    "# Input details\n",
    "booking_date = input(\"Enter booking date (YYYY-MM-DD): \")\n",
    "event_date = input(\"Enter event date (YYYY-MM-DD): \")\n",
    "ticket_price = float(input(\"Enter the ticket price: \"))\n",
    "\n",
    "# Convert string input to datetime objects\n",
    "booking_date = datetime.strptime(booking_date, \"%Y-%m-%d\")\n",
    "event_date = datetime.strptime(event_date, \"%Y-%m-%d\")\n",
    "\n",
    "# Calculate difference in days\n",
    "days_difference = (event_date - booking_date).days\n",
    "\n",
    "# Apply discount if booking is more than 30 days in advance\n",
    "if days_difference > 30:\n",
    "    discounted_price = ticket_price * 0.9  # Apply 10% discount\n",
    "    print(f\"The ticket is booked more than 30 days in advance. Discounted price: ${discounted_price:.2f}\")\n",
    "else:\n",
    "    print(f\"The ticket is booked within 30 days. Full price: ${ticket_price:.2f}\")\n"
   ]
  },
  {
   "cell_type": "code",
   "execution_count": 6,
   "id": "70c81ce9-33ba-47af-96b1-fa66787e5595",
   "metadata": {},
   "outputs": [
    {
     "name": "stdin",
     "output_type": "stream",
     "text": [
      "what is your booking date 34\n"
     ]
    },
    {
     "name": "stdout",
     "output_type": "stream",
     "text": [
      "you got 10% discount at your ticket 450\n"
     ]
    }
   ],
   "source": [
    "boking_date = int(input(\"what is your booking date\"))\n",
    "ticket_prices = 500\n",
    "if boking_date >30 :\n",
    "    print(f\"you got 10% discount at your ticket {int(ticket_prices*0.90)}\")\n",
    "else:\n",
    "    print(f\"you have to pay full {ticket_prices}\")"
   ]
  },
  {
   "cell_type": "markdown",
   "id": "9b7b5089-c959-4712-a3af-c3f0c9634788",
   "metadata": {},
   "source": [
    "# Grades and Performance (Section-E)"
   ]
  },
  {
   "cell_type": "markdown",
   "id": "063aa481-fd0f-4ab6-b165-a63573bc480b",
   "metadata": {},
   "source": [
    "## Pass or Fail (Question-21)\n",
    "### If a student scores 40 or more, print \"Pass\". Otherwise, print \"Fail\".\n"
   ]
  },
  {
   "cell_type": "code",
   "execution_count": 36,
   "id": "2a054923-141c-45dc-8506-7d71033ce280",
   "metadata": {},
   "outputs": [
    {
     "name": "stdin",
     "output_type": "stream",
     "text": [
      "Enter your marks 45\n"
     ]
    },
    {
     "name": "stdout",
     "output_type": "stream",
     "text": [
      "your total 45 is more then 40 you are (Pass)\n"
     ]
    }
   ],
   "source": [
    "marks = int(input(\"Enter your marks\"))\n",
    "if marks > 40 :\n",
    "    print(f\"your total {marks} is more then 40 you are (Pass)\")\n",
    "else:\n",
    "    print(f\"your total {marks} is less then 40 you are (Fail)\")"
   ]
  },
  {
   "cell_type": "markdown",
   "id": "78bc8223-a57b-4b43-adb9-e41798a7beab",
   "metadata": {},
   "source": [
    "## Grade Assignment (Question-22)\n",
    "### Based on a student's score, assign grades:\n",
    "#### 90 and above: \"A\"\n",
    "#### 75–89: \"B\"\n",
    "#### 50–74: \"C\"\n",
    "#### Below 50: \"F\""
   ]
  },
  {
   "cell_type": "code",
   "execution_count": 62,
   "id": "11986772-eb37-4ce4-a63e-0e445c9a7300",
   "metadata": {},
   "outputs": [
    {
     "name": "stdin",
     "output_type": "stream",
     "text": [
      "what is your percentage 94\n"
     ]
    },
    {
     "name": "stdout",
     "output_type": "stream",
     "text": [
      "At your 94% your grade is (A)\n"
     ]
    }
   ],
   "source": [
    "percentage = int(input(\"what is your percentage\"))\n",
    "if percentage >=90:\n",
    "    print(f\"At your {percentage}% your grade is (A)\")\n",
    "elif percentage >=75:\n",
    "    print(f\"At your {percentage}% your grade is (B)\")\n",
    "elif percentage >=50:\n",
    "    print(f\"At your {percentage}% your grade is (C)\")\n",
    "else:\n",
    "    print(f\"At your {percentage}% your grade is (F)\")"
   ]
  },
  {
   "cell_type": "markdown",
   "id": "b60e3e95-0b68-4081-8d5d-414aa117c70d",
   "metadata": {},
   "source": [
    "## Bonus Marks (Question-23)\n",
    "### If a student completes all assignments, add 5 bonus marks to their score. Otherwise, no bonus marks"
   ]
  },
  {
   "cell_type": "code",
   "execution_count": 60,
   "id": "88710537-d5ca-45f1-b56f-82f24d3e0637",
   "metadata": {},
   "outputs": [
    {
     "name": "stdin",
     "output_type": "stream",
     "text": [
      "Enter the student's score:  23\n",
      "Did the student complete all assignments? (yes/no):  no\n"
     ]
    },
    {
     "name": "stdout",
     "output_type": "stream",
     "text": [
      "Assignments not completed. Final score is: 23\n"
     ]
    }
   ],
   "source": [
    "student_score = int(input(\"Enter the student's score: \"))\n",
    "assignments_completed = input(\"Did the student complete all assignments? (yes/no): \").strip().lower()\n",
    "if assignments_completed == \"yes\":\n",
    "    print(f\"your marks is:{student_score} and 5 is bonus marks\")\n",
    "    print(f\"All assignments completed! Final score is: {student_score+5}\")\n",
    "else:\n",
    "    print(f\"Assignments not completed. Final score is: {student_score}\")\n",
    "\n"
   ]
  },
  {
   "cell_type": "markdown",
   "id": "4061ec58-195c-41c6-af81-1333ebdb73fb",
   "metadata": {},
   "source": [
    "## Attendance Eligibility (Question-24)\n",
    "### If a student's attendance is 75% or more, they are eligible to take the exam. Otherwise, they are not."
   ]
  },
  {
   "cell_type": "code",
   "execution_count": 42,
   "id": "467e9c98-721f-4b25-883e-b45e1926cfbc",
   "metadata": {},
   "outputs": [
    {
     "name": "stdin",
     "output_type": "stream",
     "text": [
      "Enter your attendance 76\n"
     ]
    },
    {
     "name": "stdout",
     "output_type": "stream",
     "text": [
      "your total 76 is more then 75% you are eligible to take the exam.\n"
     ]
    }
   ],
   "source": [
    "attendance = int(input(\"Enter your attendance\"))\n",
    "if attendance > 75 :\n",
    "    print(f\"your total {attendance} is more then 75% you are eligible to take the exam.\")\n",
    "else:\n",
    "    print(f\"your total {attendance} is less then 75% you are eligible to take the exam.\")"
   ]
  },
  {
   "cell_type": "markdown",
   "id": "ad80a508-abdb-4c99-bbb6-b98f7de6d63a",
   "metadata": {},
   "source": [
    "## Scholarship Eligibility (Question-25)\n",
    "### If a student's grade is \"A\" and their annual family income is below $30,000, they are eligible for a scholarship. Otherwise, they are not."
   ]
  },
  {
   "cell_type": "code",
   "execution_count": 58,
   "id": "1605f6b7-722e-4240-8172-aa926b5cd3f5",
   "metadata": {},
   "outputs": [
    {
     "name": "stdin",
     "output_type": "stream",
     "text": [
      "what is your Grade a\n",
      "what is your family income 23356\n"
     ]
    },
    {
     "name": "stdout",
     "output_type": "stream",
     "text": [
      "your grade is: A.\n",
      "your family income is lower then $30000.\n",
      "your are eligible for a scholarship.\n"
     ]
    }
   ],
   "source": [
    "grade_cheaker = input(\"what is your Grade\").upper()\n",
    "family_income = int(input(\"what is your family income\"))\n",
    "if grade_cheaker == \"A\" and family_income < 30000:\n",
    "    print(f\"\"\"your grade is: {grade_cheaker}.\n",
    "your family income is lower then $30000.\n",
    "your are eligible for a scholarship.\"\"\")\n",
    "else:\n",
    "    print(f\"your are not eligible for a scholarship.\")\n",
    "\n",
    "\n"
   ]
  }
 ],
 "metadata": {
  "kernelspec": {
   "display_name": "Python 3 (ipykernel)",
   "language": "python",
   "name": "python3"
  },
  "language_info": {
   "codemirror_mode": {
    "name": "ipython",
    "version": 3
   },
   "file_extension": ".py",
   "mimetype": "text/x-python",
   "name": "python",
   "nbconvert_exporter": "python",
   "pygments_lexer": "ipython3",
   "version": "3.12.7"
  }
 },
 "nbformat": 4,
 "nbformat_minor": 5
}
