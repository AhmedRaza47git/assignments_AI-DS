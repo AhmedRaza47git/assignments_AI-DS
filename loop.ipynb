{
 "cells": [
  {
   "cell_type": "markdown",
   "id": "dde83d50-f360-4f41-b08b-2a611eab7137",
   "metadata": {},
   "source": [
    "# Looping Structures"
   ]
  },
  {
   "cell_type": "code",
   "execution_count": 7,
   "id": "a03fe83b-7204-4f06-b479-3d190434644a",
   "metadata": {},
   "outputs": [
    {
     "name": "stdout",
     "output_type": "stream",
     "text": [
      "1\n",
      "2\n",
      "3\n",
      "4\n",
      "5\n",
      "6\n",
      "7\n",
      "8\n",
      "9\n",
      "10\n"
     ]
    }
   ],
   "source": [
    "#question_01\n",
    "for i in range (1,11) :     \n",
    "    print (i)"
   ]
  },
  {
   "cell_type": "code",
   "execution_count": 8,
   "id": "d9b2bc57-9664-4c63-9951-ad40c5b23c5a",
   "metadata": {},
   "outputs": [
    {
     "name": "stdout",
     "output_type": "stream",
     "text": [
      "20\n",
      "19\n",
      "18\n",
      "17\n",
      "16\n",
      "15\n",
      "14\n",
      "13\n",
      "12\n",
      "11\n",
      "10\n",
      "9\n",
      "8\n",
      "7\n",
      "6\n",
      "5\n",
      "4\n",
      "3\n",
      "2\n",
      "1\n"
     ]
    }
   ],
   "source": [
    "#question_02\n",
    "count = 20\n",
    "while count >= 1 :\n",
    "    print (count)\n",
    "    count -= 1 "
   ]
  },
  {
   "cell_type": "code",
   "execution_count": 4,
   "id": "97865058-8051-4fa3-a80a-317360937635",
   "metadata": {},
   "outputs": [
    {
     "name": "stdout",
     "output_type": "stream",
     "text": [
      "2\n",
      "4\n",
      "6\n",
      "8\n",
      "10\n"
     ]
    }
   ],
   "source": [
    "#question_03\n",
    "for i in range (1,11):\n",
    "    if i%2 == 0 :\n",
    "        print (i)\n",
    "    "
   ]
  },
  {
   "cell_type": "code",
   "execution_count": 13,
   "id": "d99aec39-8da3-4624-9ed1-759ec859abd4",
   "metadata": {},
   "outputs": [
    {
     "name": "stdin",
     "output_type": "stream",
     "text": [
      "give the number:  4\n"
     ]
    },
    {
     "name": "stdout",
     "output_type": "stream",
     "text": [
      "1\n",
      "2\n",
      "3\n",
      "4\n"
     ]
    }
   ],
   "source": [
    "#question_04\n",
    "user_num = int(input(\"give the number: \"))\n",
    "for i in range (1, user_num+1):\n",
    "    print (i)"
   ]
  },
  {
   "cell_type": "code",
   "execution_count": 30,
   "id": "d43b9812-1a96-4cd1-8205-84c0fd5f984f",
   "metadata": {},
   "outputs": [
    {
     "name": "stdin",
     "output_type": "stream",
     "text": [
      "give me the num:  9\n"
     ]
    },
    {
     "name": "stdout",
     "output_type": "stream",
     "text": [
      "1\n",
      "3\n",
      "5\n",
      "7\n",
      "9\n"
     ]
    }
   ],
   "source": [
    "#question_05\n",
    "u_s = int (input(\"give me the num: \"))\n",
    "for i in range (1, u_s+1):\n",
    "    if i %2 != 0:\n",
    "        print (i)\n",
    "\n",
    "    "
   ]
  },
  {
   "cell_type": "code",
   "execution_count": 14,
   "id": "2f212ce4-a3c7-43e6-94a6-627f0280a8b1",
   "metadata": {},
   "outputs": [
    {
     "name": "stdout",
     "output_type": "stream",
     "text": [
      "Happy Birthday!\n",
      "Happy Birthday!\n",
      "Happy Birthday!\n",
      "Happy Birthday!\n",
      "Happy Birthday!\n"
     ]
    }
   ],
   "source": [
    "# 6. Program to print 'Happy Birthday!' five times\n",
    "for _ in range(5):\n",
    "    print(\"Happy Birthday!\")"
   ]
  },
  {
   "cell_type": "code",
   "execution_count": 15,
   "id": "5a7acd0e-0cb7-4e1e-847e-84255ee3f794",
   "metadata": {},
   "outputs": [
    {
     "name": "stdin",
     "output_type": "stream",
     "text": [
      "Enter a number:  2\n"
     ]
    },
    {
     "name": "stdout",
     "output_type": "stream",
     "text": [
      "The first 2 terms of the series are: 1 4 \n"
     ]
    }
   ],
   "source": [
    "# 7. Program to generate the first n terms of the series formed by squaring natural numbers\n",
    "n = int(input(\"Enter a number: \"))\n",
    "print(\"The first\", n, \"terms of the series are:\", end=\" \")\n",
    "for i in range(1, n + 1):\n",
    "    print(i ** 2, end=\" \")\n",
    "print()\n"
   ]
  },
  {
   "cell_type": "code",
   "execution_count": 16,
   "id": "37851ca9-fbe1-47a3-9fe3-600b8bae8082",
   "metadata": {},
   "outputs": [
    {
     "name": "stdin",
     "output_type": "stream",
     "text": [
      "Enter a number:  3\n"
     ]
    },
    {
     "name": "stdout",
     "output_type": "stream",
     "text": [
      "Multiplication table for 3:\n",
      "3 x 1 = 3\n",
      "3 x 2 = 6\n",
      "3 x 3 = 9\n",
      "3 x 4 = 12\n",
      "3 x 5 = 15\n",
      "3 x 6 = 18\n",
      "3 x 7 = 21\n",
      "3 x 8 = 24\n",
      "3 x 9 = 27\n",
      "3 x 10 = 30\n"
     ]
    }
   ],
   "source": [
    "# 8. Program to print the multiplication table of a given number\n",
    "number = int(input(\"Enter a number: \"))\n",
    "print(f\"Multiplication table for {number}:\")\n",
    "for i in range(1, 11):\n",
    "    print(f\"{number} x {i} = {number * i}\")\n"
   ]
  },
  {
   "cell_type": "code",
   "execution_count": 17,
   "id": "d4897cd4-b1a3-4178-9560-ebc92a55ad0d",
   "metadata": {},
   "outputs": [
    {
     "name": "stdout",
     "output_type": "stream",
     "text": [
      "The first 8 terms of the arithmetic progression are: 3 7 11 15 19 23 27 31 \n"
     ]
    }
   ],
   "source": [
    "# 9. Program to print the first 8 terms of an arithmetic progression\n",
    "start = 3\n",
    "difference = 4\n",
    "terms = 8\n",
    "print(\"The first\", terms, \"terms of the arithmetic progression are:\", end=\" \")\n",
    "for i in range(terms):\n",
    "    print(start + i * difference, end=\" \")\n",
    "print()\n"
   ]
  },
  {
   "cell_type": "code",
   "execution_count": 18,
   "id": "a5107e29-702c-466d-8994-5bad42955c10",
   "metadata": {},
   "outputs": [
    {
     "name": "stdout",
     "output_type": "stream",
     "text": [
      "The first 6 terms of the geometric sequence are: 2 6 18 54 162 486 \n"
     ]
    }
   ],
   "source": [
    "# 10. Program to print the first 6 terms of a geometric sequence\n",
    "start = 2\n",
    "ratio = 3\n",
    "terms = 6\n",
    "print(\"The first\", terms, \"terms of the geometric sequence are:\", end=\" \")\n",
    "for i in range(terms):\n",
    "    print(start * (ratio ** i), end=\" \")\n",
    "print()"
   ]
  },
  {
   "cell_type": "code",
   "execution_count": 19,
   "id": "dd093499-d21b-408d-8043-f81931f385b1",
   "metadata": {},
   "outputs": [
    {
     "name": "stdin",
     "output_type": "stream",
     "text": [
      "Enter a positive integer:  3\n"
     ]
    },
    {
     "name": "stdout",
     "output_type": "stream",
     "text": [
      "The sum of all integers from 1 to 3 is: 6\n"
     ]
    }
   ],
   "source": [
    "# 11. Program to calculate the sum of all integers from 1 to a given number\n",
    "positive_integer = int(input(\"Enter a positive integer: \"))\n",
    "if positive_integer > 0:\n",
    "    total_sum = sum(range(1, positive_integer + 1))\n",
    "    print(f\"The sum of all integers from 1 to {positive_integer} is: {total_sum}\")\n",
    "else:\n",
    "    print(\"Please enter a positive integer.\")\n"
   ]
  },
  {
   "cell_type": "code",
   "execution_count": null,
   "id": "f6ee3b6b-fa9d-4577-b022-00e025947cfd",
   "metadata": {},
   "outputs": [],
   "source": [
    "# 12. Program to calculate the sum of reciprocals from 1 to N\n",
    "N = int(input(\"Enter a positive integer: \"))\n",
    "if N > 0:\n",
    "    reciprocal_sum = sum(1 / i for i in range(1, N + 1))\n",
    "    print(f\"The sum of reciprocals from 1 to {N} is: {reciprocal_sum:.2f}\")\n",
    "else:\n",
    "    print(\"Please enter a positive integer.\")"
   ]
  },
  {
   "cell_type": "code",
   "execution_count": null,
   "id": "2e2fead8-5139-474c-8509-c9b212b5047f",
   "metadata": {},
   "outputs": [],
   "source": [
    "# 13. Program to accumulate numbers entered by the user\n",
    "running_total = 0\n",
    "for _ in range(5):\n",
    "    number = int(input(\"Enter a number: \"))\n",
    "    running_total += number\n",
    "print(f\"The final running total is: {running_total}\")"
   ]
  },
  {
   "cell_type": "code",
   "execution_count": null,
   "id": "6ccaf370-be6b-4893-bfdd-5b28ebc67283",
   "metadata": {},
   "outputs": [],
   "source": [
    "# 14. Program to calculate the factorial of a number\n",
    "num = int(input(\"Enter a positive integer: \"))\n",
    "if num < 0:\n",
    "    print(\"Factorial does not exist for negative numbers.\")\n",
    "elif num == 0:\n",
    "    print(\"The factorial of 0 is 1.\")\n",
    "else:\n",
    "    factorial = 1\n",
    "    for i in range(1, num + 1):\n",
    "        factorial *= i\n",
    "    print(f\"The factorial of {num} is: {factorial}\")"
   ]
  },
  {
   "cell_type": "code",
   "execution_count": null,
   "id": "3f6bfc9d-ac5c-4d3a-bc6f-d57963e53267",
   "metadata": {},
   "outputs": [],
   "source": [
    "# 15. Program to calculate power without using ** or math.pow()\n",
    "base = float(input(\"Enter the base number: \"))\n",
    "exponent = int(input(\"Enter the exponent: \"))\n",
    "result = 1\n",
    "if exponent > 0:\n",
    "    for _ in range(exponent):\n",
    "        result *= base\n",
    "elif exponent < 0:\n",
    "    for _ in range(-exponent):\n",
    "        result /= base\n",
    "# If exponent is 0, result remains 1 (as base^0 = 1 for any base)\n",
    "print(f\"The result of {base} raised to the power of {exponent} is: {result}\")\n"
   ]
  },
  {
   "cell_type": "code",
   "execution_count": null,
   "id": "e3fff7cb-9180-46bc-8add-68d3fce5e5f3",
   "metadata": {},
   "outputs": [],
   "source": []
  },
  {
   "cell_type": "code",
   "execution_count": null,
   "id": "644d377a-c794-4738-aec6-21710e3eb3df",
   "metadata": {},
   "outputs": [],
   "source": []
  },
  {
   "cell_type": "code",
   "execution_count": null,
   "id": "d2710bec-fa67-40cf-8e42-5772c250f4e9",
   "metadata": {},
   "outputs": [],
   "source": []
  },
  {
   "cell_type": "code",
   "execution_count": null,
   "id": "54ac9bf2-edfb-4a49-ba9d-872d6da55fca",
   "metadata": {},
   "outputs": [],
   "source": []
  },
  {
   "cell_type": "code",
   "execution_count": null,
   "id": "da8c3ff3-5b68-4e5c-9b78-84265302d51e",
   "metadata": {},
   "outputs": [],
   "source": []
  },
  {
   "cell_type": "code",
   "execution_count": null,
   "id": "f703fcba-6389-4e0c-bb3e-aef7b1d63372",
   "metadata": {},
   "outputs": [],
   "source": []
  }
 ],
 "metadata": {
  "kernelspec": {
   "display_name": "Python 3 (ipykernel)",
   "language": "python",
   "name": "python3"
  },
  "language_info": {
   "codemirror_mode": {
    "name": "ipython",
    "version": 3
   },
   "file_extension": ".py",
   "mimetype": "text/x-python",
   "name": "python",
   "nbconvert_exporter": "python",
   "pygments_lexer": "ipython3",
   "version": "3.12.7"
  }
 },
 "nbformat": 4,
 "nbformat_minor": 5
}
